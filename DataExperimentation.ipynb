{
 "cells": [
  {
   "cell_type": "code",
   "execution_count": 81,
   "metadata": {
    "collapsed": true
   },
   "outputs": [],
   "source": [
    "import pandas as pd\n",
    "import matplotlib.pyplot as plt"
   ]
  },
  {
   "cell_type": "code",
   "execution_count": 2,
   "metadata": {},
   "outputs": [
    {
     "name": "stderr",
     "output_type": "stream",
     "text": [
      "C:\\Users\\brubakbd\\Anaconda3\\lib\\site-packages\\IPython\\core\\interactiveshell.py:2717: DtypeWarning: Columns (26) have mixed types. Specify dtype option on import or set low_memory=False.\n",
      "  interactivity=interactivity, compiler=compiler, result=result)\n"
     ]
    }
   ],
   "source": [
    "df = pd.read_csv('./combinedData.txt',index_col=None, header=0,sep='\\t')"
   ]
  },
  {
   "cell_type": "code",
   "execution_count": 30,
   "metadata": {},
   "outputs": [],
   "source": [
    "df =df.drop(df.index[439542])"
   ]
  },
  {
   "cell_type": "code",
   "execution_count": 31,
   "metadata": {},
   "outputs": [],
   "source": [
    "df['TOTAL'] = pd.to_numeric(df['TOTAL'])"
   ]
  },
  {
   "cell_type": "code",
   "execution_count": 49,
   "metadata": {
    "collapsed": true
   },
   "outputs": [],
   "source": [
    "df['DATE'] = pd.to_datetime(df['DATE'])"
   ]
  },
  {
   "cell_type": "code",
   "execution_count": 50,
   "metadata": {},
   "outputs": [
    {
     "data": {
      "text/html": [
       "<div>\n",
       "<style>\n",
       "    .dataframe thead tr:only-child th {\n",
       "        text-align: right;\n",
       "    }\n",
       "\n",
       "    .dataframe thead th {\n",
       "        text-align: left;\n",
       "    }\n",
       "\n",
       "    .dataframe tbody tr th {\n",
       "        vertical-align: top;\n",
       "    }\n",
       "</style>\n",
       "<table border=\"1\" class=\"dataframe\">\n",
       "  <thead>\n",
       "    <tr style=\"text-align: right;\">\n",
       "      <th></th>\n",
       "      <th>DATE</th>\n",
       "      <th>DAY</th>\n",
       "      <th>1 am</th>\n",
       "      <th>2 am</th>\n",
       "      <th>3 am</th>\n",
       "      <th>4 am</th>\n",
       "      <th>5 am</th>\n",
       "      <th>6 am</th>\n",
       "      <th>7 am</th>\n",
       "      <th>8 am</th>\n",
       "      <th>...</th>\n",
       "      <th>7 pm</th>\n",
       "      <th>8 pm</th>\n",
       "      <th>9 pm</th>\n",
       "      <th>10 pm</th>\n",
       "      <th>11 pm</th>\n",
       "      <th>12 mid</th>\n",
       "      <th>TOTAL</th>\n",
       "      <th>Station number</th>\n",
       "      <th>Estimated</th>\n",
       "      <th>Direction</th>\n",
       "    </tr>\n",
       "  </thead>\n",
       "  <tbody>\n",
       "    <tr>\n",
       "      <th>0</th>\n",
       "      <td>2002-01-01</td>\n",
       "      <td>Tuesday</td>\n",
       "      <td>3</td>\n",
       "      <td>12</td>\n",
       "      <td>4</td>\n",
       "      <td>4</td>\n",
       "      <td>4</td>\n",
       "      <td>3</td>\n",
       "      <td>1</td>\n",
       "      <td>3</td>\n",
       "      <td>...</td>\n",
       "      <td>11</td>\n",
       "      <td>9</td>\n",
       "      <td>8</td>\n",
       "      <td>10</td>\n",
       "      <td>16</td>\n",
       "      <td>5</td>\n",
       "      <td>200</td>\n",
       "      <td>8</td>\n",
       "      <td>False</td>\n",
       "      <td>East</td>\n",
       "    </tr>\n",
       "    <tr>\n",
       "      <th>1</th>\n",
       "      <td>2002-01-02</td>\n",
       "      <td>Wednesday</td>\n",
       "      <td>2</td>\n",
       "      <td>0</td>\n",
       "      <td>0</td>\n",
       "      <td>1</td>\n",
       "      <td>0</td>\n",
       "      <td>3</td>\n",
       "      <td>7</td>\n",
       "      <td>14</td>\n",
       "      <td>...</td>\n",
       "      <td>16</td>\n",
       "      <td>16</td>\n",
       "      <td>13</td>\n",
       "      <td>10</td>\n",
       "      <td>0</td>\n",
       "      <td>6</td>\n",
       "      <td>320</td>\n",
       "      <td>8</td>\n",
       "      <td>False</td>\n",
       "      <td>East</td>\n",
       "    </tr>\n",
       "    <tr>\n",
       "      <th>2</th>\n",
       "      <td>2002-01-03</td>\n",
       "      <td>Thursday</td>\n",
       "      <td>2</td>\n",
       "      <td>0</td>\n",
       "      <td>2</td>\n",
       "      <td>0</td>\n",
       "      <td>2</td>\n",
       "      <td>4</td>\n",
       "      <td>6</td>\n",
       "      <td>50</td>\n",
       "      <td>...</td>\n",
       "      <td>61</td>\n",
       "      <td>20</td>\n",
       "      <td>13</td>\n",
       "      <td>20</td>\n",
       "      <td>3</td>\n",
       "      <td>0</td>\n",
       "      <td>422</td>\n",
       "      <td>8</td>\n",
       "      <td>False</td>\n",
       "      <td>East</td>\n",
       "    </tr>\n",
       "    <tr>\n",
       "      <th>3</th>\n",
       "      <td>2002-01-04</td>\n",
       "      <td>Friday</td>\n",
       "      <td>4</td>\n",
       "      <td>1</td>\n",
       "      <td>1</td>\n",
       "      <td>0</td>\n",
       "      <td>0</td>\n",
       "      <td>3</td>\n",
       "      <td>5</td>\n",
       "      <td>39</td>\n",
       "      <td>...</td>\n",
       "      <td>76</td>\n",
       "      <td>48</td>\n",
       "      <td>25</td>\n",
       "      <td>49</td>\n",
       "      <td>25</td>\n",
       "      <td>28</td>\n",
       "      <td>646</td>\n",
       "      <td>8</td>\n",
       "      <td>False</td>\n",
       "      <td>East</td>\n",
       "    </tr>\n",
       "    <tr>\n",
       "      <th>4</th>\n",
       "      <td>2002-01-05</td>\n",
       "      <td>Saturday</td>\n",
       "      <td>6</td>\n",
       "      <td>7</td>\n",
       "      <td>3</td>\n",
       "      <td>1</td>\n",
       "      <td>0</td>\n",
       "      <td>2</td>\n",
       "      <td>11</td>\n",
       "      <td>8</td>\n",
       "      <td>...</td>\n",
       "      <td>15</td>\n",
       "      <td>16</td>\n",
       "      <td>16</td>\n",
       "      <td>8</td>\n",
       "      <td>14</td>\n",
       "      <td>8</td>\n",
       "      <td>297</td>\n",
       "      <td>8</td>\n",
       "      <td>False</td>\n",
       "      <td>East</td>\n",
       "    </tr>\n",
       "  </tbody>\n",
       "</table>\n",
       "<p>5 rows × 30 columns</p>\n",
       "</div>"
      ],
      "text/plain": [
       "        DATE        DAY  1 am  2 am  3 am  4 am  5 am  6 am  7 am  8 am  \\\n",
       "0 2002-01-01    Tuesday     3    12     4     4     4     3     1     3   \n",
       "1 2002-01-02  Wednesday     2     0     0     1     0     3     7    14   \n",
       "2 2002-01-03   Thursday     2     0     2     0     2     4     6    50   \n",
       "3 2002-01-04     Friday     4     1     1     0     0     3     5    39   \n",
       "4 2002-01-05   Saturday     6     7     3     1     0     2    11     8   \n",
       "\n",
       "     ...      7 pm  8 pm  9 pm  10 pm  11 pm  12 mid  TOTAL  Station number  \\\n",
       "0    ...        11     9     8     10     16       5    200               8   \n",
       "1    ...        16    16    13     10      0       6    320               8   \n",
       "2    ...        61    20    13     20      3       0    422               8   \n",
       "3    ...        76    48    25     49     25      28    646               8   \n",
       "4    ...        15    16    16      8     14       8    297               8   \n",
       "\n",
       "   Estimated  Direction  \n",
       "0      False       East  \n",
       "1      False       East  \n",
       "2      False       East  \n",
       "3      False       East  \n",
       "4      False       East  \n",
       "\n",
       "[5 rows x 30 columns]"
      ]
     },
     "execution_count": 50,
     "metadata": {},
     "output_type": "execute_result"
    }
   ],
   "source": [
    "df.head()"
   ]
  },
  {
   "cell_type": "code",
   "execution_count": 51,
   "metadata": {
    "collapsed": true
   },
   "outputs": [],
   "source": [
    "gp = df.groupby(['Station number','Direction'])"
   ]
  },
  {
   "cell_type": "code",
   "execution_count": 83,
   "metadata": {},
   "outputs": [
    {
     "data": {
      "text/plain": [
       "Station number  Direction\n",
       "8               East           10.530693\n",
       "                North           8.089286\n",
       "                South           6.849702\n",
       "                West            9.500053\n",
       "26              North         411.546680\n",
       "                South         414.060354\n",
       "27              East          109.721899\n",
       "                West          114.962836\n",
       "28              East          193.490914\n",
       "                North         191.016026\n",
       "                South         176.897436\n",
       "                West          192.468129\n",
       "29              North         174.536438\n",
       "                South         160.859870\n",
       "30              North         158.878125\n",
       "                South         167.277604\n",
       "31              East          114.256784\n",
       "                West          112.610796\n",
       "32              North         581.612879\n",
       "                South         582.462183\n",
       "33              East          102.499173\n",
       "                West          104.051206\n",
       "34              North          62.647045\n",
       "                South          63.684363\n",
       "35              East          115.776599\n",
       "                West          115.903025\n",
       "36              East          783.707955\n",
       "                West          806.980886\n",
       "38              North         594.723423\n",
       "                South         616.746105\n",
       "                                ...     \n",
       "386             North         140.502806\n",
       "                South         139.978167\n",
       "388             North         397.351912\n",
       "                South         398.852041\n",
       "389             North         888.980478\n",
       "                South         859.039651\n",
       "390             North         210.483947\n",
       "                South         201.475977\n",
       "400             North          38.031598\n",
       "                South          38.726798\n",
       "402             North         431.036617\n",
       "                South         418.878825\n",
       "405             North        1915.000084\n",
       "                South        1916.136270\n",
       "407             East          380.895084\n",
       "                West          376.751939\n",
       "410             North          59.773339\n",
       "                South          60.956926\n",
       "420             East          590.711231\n",
       "                West          619.555561\n",
       "422             East          167.494135\n",
       "                West          164.755732\n",
       "425             East          465.962060\n",
       "                West          484.925830\n",
       "458             East          186.743209\n",
       "                West          183.037887\n",
       "460             East          121.272769\n",
       "                West          123.856627\n",
       "464             East          426.466676\n",
       "                West          422.184059\n",
       "Length: 220, dtype: float64"
      ]
     },
     "execution_count": 83,
     "metadata": {},
     "output_type": "execute_result"
    }
   ],
   "source": [
    "gp.mean().T.drop(['TOTAL','Estimated']).mean()"
   ]
  },
  {
   "cell_type": "code",
   "execution_count": null,
   "metadata": {
    "collapsed": true
   },
   "outputs": [],
   "source": []
  }
 ],
 "metadata": {
  "kernelspec": {
   "display_name": "Python 3",
   "language": "python",
   "name": "python3"
  },
  "language_info": {
   "codemirror_mode": {
    "name": "ipython",
    "version": 3
   },
   "file_extension": ".py",
   "mimetype": "text/x-python",
   "name": "python",
   "nbconvert_exporter": "python",
   "pygments_lexer": "ipython3",
   "version": "3.6.1"
  }
 },
 "nbformat": 4,
 "nbformat_minor": 2
}
