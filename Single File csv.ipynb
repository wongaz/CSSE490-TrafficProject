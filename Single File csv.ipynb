{
 "cells": [
  {
   "cell_type": "code",
   "execution_count": 1,
   "metadata": {
    "ExecuteTime": {
     "end_time": "2018-01-18T18:16:39.488185Z",
     "start_time": "2018-01-18T18:16:39.060051Z"
    }
   },
   "outputs": [],
   "source": [
    "import pandas as pd\n",
    "import glob\n",
    "import os"
   ]
  },
  {
   "cell_type": "code",
   "execution_count": 2,
   "metadata": {
    "ExecuteTime": {
     "end_time": "2018-01-18T18:16:43.493482Z",
     "start_time": "2018-01-18T18:16:39.488185Z"
    }
   },
   "outputs": [
    {
     "name": "stderr",
     "output_type": "stream",
     "text": [
      "c:\\python35\\lib\\site-packages\\ipykernel_launcher.py:7: SettingWithCopyWarning: \n",
      "A value is trying to be set on a copy of a slice from a DataFrame.\n",
      "Try using .loc[row_indexer,col_indexer] = value instead\n",
      "\n",
      "See the caveats in the documentation: http://pandas.pydata.org/pandas-docs/stable/indexing.html#indexing-view-versus-copy\n",
      "  import sys\n",
      "c:\\python35\\lib\\site-packages\\ipykernel_launcher.py:9: SettingWithCopyWarning: \n",
      "A value is trying to be set on a copy of a slice from a DataFrame.\n",
      "Try using .loc[row_indexer,col_indexer] = value instead\n",
      "\n",
      "See the caveats in the documentation: http://pandas.pydata.org/pandas-docs/stable/indexing.html#indexing-view-versus-copy\n",
      "  if __name__ == '__main__':\n"
     ]
    }
   ],
   "source": [
    "xl = pd.ExcelFile(\"Current_CC_StationList.xlsx\")\n",
    "df = xl.parse(\"Master\")\n",
    "rexl = pd.ExcelFile(\"Retired_CC_StationList.xlsx\")\n",
    "dfre = rexl.parse(\"Master\")\n",
    "\n",
    "df1 = df[['STATION','COUNTY']]\n",
    "df1['RETIRED']= False\n",
    "df2 = dfre[['STATION','COUNTY']]\n",
    "df2['RETIRED']= True\n",
    "# 8 is a current station\n",
    "df2= df2[df2[\"STATION\"] != 8]\n",
    "stationInfo = pd.concat([df1,df2])\n"
   ]
  },
  {
   "cell_type": "code",
   "execution_count": 3,
   "metadata": {
    "ExecuteTime": {
     "end_time": "2018-01-18T18:17:36.659675Z",
     "start_time": "2018-01-18T18:16:43.493482Z"
    }
   },
   "outputs": [],
   "source": [
    "path =r'./newData' # use your path\n",
    "allFiles = glob.glob(path + \"/*/*.csv\")\n",
    "frame = pd.DataFrame()\n",
    "list_ = []\n",
    "for file_ in allFiles:\n",
    "    dir_name = '\\\\'.join(file_.split('\\\\')[:-1]);\n",
    "    df = pd.read_csv(file_,index_col=None, header=0,sep=\"|\")\n",
    "    df = df.merge(stationInfo,how='left', left_on='Station number', right_on='STATION')\n",
    "    \n",
    "    if not os.path.exists(dir_name.replace('newData','comma')):\n",
    "        os.makedirs(dir_name.replace('newData','comma'))\n",
    "    df.to_csv(file_.replace('newData','comma'),sep=',',index=False)\n"
   ]
  },
  {
   "cell_type": "code",
   "execution_count": null,
   "metadata": {},
   "outputs": [],
   "source": []
  }
 ],
 "metadata": {
  "kernelspec": {
   "display_name": "Python 3",
   "language": "python",
   "name": "python3"
  },
  "language_info": {
   "codemirror_mode": {
    "name": "ipython",
    "version": 3
   },
   "file_extension": ".py",
   "mimetype": "text/x-python",
   "name": "python",
   "nbconvert_exporter": "python",
   "pygments_lexer": "ipython3",
   "version": "3.5.1"
  },
  "toc": {
   "nav_menu": {},
   "number_sections": true,
   "sideBar": true,
   "skip_h1_title": false,
   "toc_cell": false,
   "toc_position": {},
   "toc_section_display": "block",
   "toc_window_display": false
  },
  "varInspector": {
   "cols": {
    "lenName": 16,
    "lenType": 16,
    "lenVar": 40
   },
   "kernels_config": {
    "python": {
     "delete_cmd_postfix": "",
     "delete_cmd_prefix": "del ",
     "library": "var_list.py",
     "varRefreshCmd": "print(var_dic_list())"
    },
    "r": {
     "delete_cmd_postfix": ") ",
     "delete_cmd_prefix": "rm(",
     "library": "var_list.r",
     "varRefreshCmd": "cat(var_dic_list()) "
    }
   },
   "types_to_exclude": [
    "module",
    "function",
    "builtin_function_or_method",
    "instance",
    "_Feature"
   ],
   "window_display": false
  }
 },
 "nbformat": 4,
 "nbformat_minor": 2
}
