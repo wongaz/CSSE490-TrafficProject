{
 "cells": [
  {
   "cell_type": "code",
   "execution_count": 67,
   "metadata": {},
   "outputs": [],
   "source": [
    "import urllib\n",
    "import ast\n",
    "import HTMLParser\n",
    "import string\n",
    "import json\n",
    "\n",
    "url = 'https://raw.githubusercontent.com/wongaz/CSSE490-TrafficProject/master/minnesota.geojson'\n",
    "mn_data = urllib.urlopen(url).read()\n",
    "mn_data = ast.literal_eval(mn_data)"
   ]
  },
  {
   "cell_type": "code",
   "execution_count": 68,
   "metadata": {},
   "outputs": [
    {
     "name": "stdout",
     "output_type": "stream",
     "text": [
      "['Jackson', 'Scott', 'Wilkin', 'Stearns', 'Faribault', 'McLeod', 'Mower', 'Chippewa', 'Mahnomen', 'Becker', 'Big Stone', 'Crow Wing', 'Murray', 'Chisago', 'Brown', 'Red Lake', 'Cottonwood', 'Lake of the Woods', 'Goodhue', 'Dodge', 'Yellow Medicine', 'Pine', 'Martin', 'Houston', 'Kittson', 'Fillmore', 'Stevens', 'Ramsey', 'Pennington', 'Pipestone', 'Carver', 'Waseca', 'Kanabec', 'Blue Earth', 'Cook', 'Sibley', 'Cass', 'Kandiyohi', 'Clearwater', 'Roseau', 'Anoka', 'Le Sueur', 'Isanti', 'Marshall', 'Itasca', 'Nicollet', 'Olmsted', 'Lyon', 'Traverse', 'St. Louis', 'Lincoln', 'Wadena', 'Todd', 'Rock', 'Hubbard', 'Lac qui Parle', 'Wabasha', 'Otter Tail', 'Redwood', 'Sherburne', 'Aitkin', 'Watonwan', 'Pope', 'Morrison', 'Steele', 'Beltrami', 'Clay', 'Rice', 'Swift', 'Winona', 'Dakota', 'Wright', 'Nobles', 'Lake', 'Freeborn', 'Renville', 'Hennepin', 'Carlton', 'Koochiching', 'Douglas', 'Meeker', 'Washington', 'Grant', 'Benton', 'Norman', 'Polk', 'Mille Lacs']\n"
     ]
    }
   ],
   "source": [
    "county_names = []\n",
    "county_names_dict = {}\n",
    "\n",
    "for county in mn_data['features']:\n",
    "    for m in range(len(county['properties']['name'])):\n",
    "        if county['properties']['name'][m:m+6] == 'County':\n",
    "            county_names.append(county['properties']['name'][0:m-1])\n",
    "            county_names_dict[county['properties']['name'][0:m-1]] = county['properties']['name']\n",
    "            \n",
    "print county_names"
   ]
  },
  {
   "cell_type": "code",
   "execution_count": 69,
   "metadata": {},
   "outputs": [],
   "source": [
    "county_names[county_names.index('Otter Tail')] = 'Ottertail'\n",
    "county_names[county_names.index('St. Louis')] = 'St Louis'"
   ]
  },
  {
   "cell_type": "code",
   "execution_count": 70,
   "metadata": {},
   "outputs": [],
   "source": [
    "import pandas as pd\n",
    "df = pd.read_csv('./combinedData.csv')"
   ]
  },
  {
   "cell_type": "code",
   "execution_count": 71,
   "metadata": {},
   "outputs": [],
   "source": [
    "grp = df[['TOTAL','COUNTY']].groupby('COUNTY')"
   ]
  },
  {
   "cell_type": "code",
   "execution_count": 72,
   "metadata": {},
   "outputs": [],
   "source": [
    "means = grp.mean()"
   ]
  },
  {
   "cell_type": "code",
   "execution_count": 73,
   "metadata": {},
   "outputs": [
    {
     "data": {
      "text/plain": [
       "1"
      ]
     },
     "execution_count": 73,
     "metadata": {},
     "output_type": "execute_result"
    }
   ],
   "source": [
    "county_names.index('Scott')"
   ]
  },
  {
   "cell_type": "code",
   "execution_count": 74,
   "metadata": {},
   "outputs": [],
   "source": [
    "scaled = (means/means.max()).reset_index()"
   ]
  },
  {
   "cell_type": "code",
   "execution_count": 119,
   "metadata": {},
   "outputs": [],
   "source": [
    "layers2 = []\n",
    "for county in scaled.get_values():\n",
    "    d = {\"type\": \"FeatureCollection\"}\n",
    "    i = county_names.index(county[0])\n",
    "    d['features'] = [mn_data['features'][i]]\n",
    "    dictToAdd = dict(\n",
    "                sourcetype = 'geojson',\n",
    "                source = d,\n",
    "                type = 'fill',\n",
    "                color = 'rgba('+str(int(county[1]*255))+',0,0,0.8)'\n",
    "#                 color = 'rgba(255,0,0,0.8)'\n",
    "            )\n",
    "    layers2.append(dictToAdd)"
   ]
  },
  {
   "cell_type": "code",
   "execution_count": 121,
   "metadata": {},
   "outputs": [
    {
     "name": "stdout",
     "output_type": "stream",
     "text": [
      "High five! You successfully sent some data to your account on plotly. View your plot in your browser at https://plot.ly/~brubakbd/0 or inside your plot.ly account where it is named 'county-level-choropleths-python'\n"
     ]
    },
    {
     "data": {
      "text/html": [
       "<iframe id=\"igraph\" scrolling=\"no\" style=\"border:none;\" seamless=\"seamless\" src=\"https://plot.ly/~brubakbd/0.embed\" height=\"600px\" width=\"100%\"></iframe>"
      ],
      "text/plain": [
       "<plotly.tools.PlotlyDisplay object>"
      ]
     },
     "execution_count": 121,
     "metadata": {},
     "output_type": "execute_result"
    }
   ],
   "source": [
    "import plotly.plotly as py\n",
    "import plotly.graph_objs as graph_objs\n",
    "\n",
    "mapbox_access_token = \"pk.eyJ1IjoiYnJ1YmFrYmQiLCJhIjoiY2pkYzUzNjcyNDVkZTJxcnpmYThuMmw0diJ9.GD09vfJZbyJH6Oej1PIJaA\"\n",
    "\n",
    "data = graph_objs.Data([\n",
    "    graph_objs.Scattermapbox(\n",
    "        lat=['44.986'],\n",
    "        lon=['-93.258133'],\n",
    "        mode='markers',\n",
    "    )\n",
    "])\n",
    "layout = graph_objs.Layout(\n",
    "    height=600,\n",
    "    autosize=True,\n",
    "    hovermode='closest',\n",
    "    mapbox=dict(\n",
    "        layers=layers2,\n",
    "        accesstoken=mapbox_access_token,\n",
    "        bearing=0,\n",
    "        center=dict(\n",
    "            lat=44.986,\n",
    "            lon=-93.258133\n",
    "        ),\n",
    "        pitch=0,\n",
    "        zoom=4.5,\n",
    "        style='light'\n",
    "    ),\n",
    ")\n",
    "\n",
    "fig = dict(data=data, layout=layout)\n",
    "py.iplot(fig, filename='county-level-choropleths-python')"
   ]
  },
  {
   "cell_type": "code",
   "execution_count": null,
   "metadata": {},
   "outputs": [],
   "source": []
  },
  {
   "cell_type": "code",
   "execution_count": null,
   "metadata": {},
   "outputs": [],
   "source": []
  }
 ],
 "metadata": {
  "kernelspec": {
   "display_name": "Python 2",
   "language": "python",
   "name": "python2"
  },
  "language_info": {
   "codemirror_mode": {
    "name": "ipython",
    "version": 2
   },
   "file_extension": ".py",
   "mimetype": "text/x-python",
   "name": "python",
   "nbconvert_exporter": "python",
   "pygments_lexer": "ipython2",
   "version": "2.7.14"
  }
 },
 "nbformat": 4,
 "nbformat_minor": 2
}
